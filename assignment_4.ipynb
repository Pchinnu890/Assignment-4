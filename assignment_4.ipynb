{
 "cells": [
  {
   "cell_type": "code",
   "execution_count": 1,
   "metadata": {},
   "outputs": [
    {
     "data": {
      "text/plain": [
       "array([0.61874427, 0.51997734, 0.19061782, 0.44441907, 0.71360025,\n",
       "       0.16790434, 0.40312447, 0.49653036, 0.11902318, 0.90521265,\n",
       "       0.76699592, 0.49650564, 0.58626626, 0.23592405, 0.23077713,\n",
       "       0.47584961, 0.24052251, 0.79292861, 0.69802107, 0.85399647,\n",
       "       0.54593604, 0.21758165, 0.91287931, 0.74310166, 0.86600722])"
      ]
     },
     "execution_count": 1,
     "metadata": {},
     "output_type": "execute_result"
    }
   ],
   "source": [
    "import numpy as np\n",
    "np.random.rand(25)"
   ]
  },
  {
   "cell_type": "code",
   "execution_count": 2,
   "metadata": {},
   "outputs": [
    {
     "data": {
      "text/plain": [
       "array([0.        , 0.05263158, 0.10526316, 0.15789474, 0.21052632,\n",
       "       0.26315789, 0.31578947, 0.36842105, 0.42105263, 0.47368421,\n",
       "       0.52631579, 0.57894737, 0.63157895, 0.68421053, 0.73684211,\n",
       "       0.78947368, 0.84210526, 0.89473684, 0.94736842, 1.        ])"
      ]
     },
     "execution_count": 2,
     "metadata": {},
     "output_type": "execute_result"
    }
   ],
   "source": [
    "np.linspace(0, 1, 20)"
   ]
  },
  {
   "cell_type": "code",
   "execution_count": 3,
   "metadata": {},
   "outputs": [
    {
     "data": {
      "text/plain": [
       "array([[ 0,  1,  2,  3,  4,  5,  6,  7,  8,  9],\n",
       "       [10, 11, 12, 13, 14, 15, 16, 17, 18, 19],\n",
       "       [20, 21, 22, 23, 24, 25, 26, 27, 28, 29],\n",
       "       [30, 31, 32, 33, 34, 35, 36, 37, 38, 39],\n",
       "       [40, 41, 42, 43, 44, 45, 46, 47, 48, 49],\n",
       "       [50, 51, 52, 53, 54, 55, 56, 57, 58, 59],\n",
       "       [60, 61, 62, 63, 64, 65, 66, 67, 68, 69],\n",
       "       [70, 71, 72, 73, 74, 75, 76, 77, 78, 79],\n",
       "       [80, 81, 82, 83, 84, 85, 86, 87, 88, 89],\n",
       "       [90, 91, 92, 93, 94, 95, 96, 97, 98, 99]])"
      ]
     },
     "execution_count": 3,
     "metadata": {},
     "output_type": "execute_result"
    }
   ],
   "source": [
    "import numpy as np\n",
    "array = np.arange(100).reshape(10,10)\n",
    "array"
   ]
  },
  {
   "cell_type": "code",
   "execution_count": 4,
   "metadata": {},
   "outputs": [
    {
     "name": "stdout",
     "output_type": "stream",
     "text": [
      "[[10 11 12 13 14 15 16 17 18 19]\n",
      " [50 51 52 53 54 55 56 57 58 59]\n",
      " [60 61 62 63 64 65 66 67 68 69]]\n"
     ]
    }
   ],
   "source": [
    "print(array[[1,5,6]])"
   ]
  },
  {
   "cell_type": "code",
   "execution_count": 5,
   "metadata": {},
   "outputs": [
    {
     "name": "stdout",
     "output_type": "stream",
     "text": [
      "[[30 31 32 33 34 35 36 37 38 39]\n",
      " [40 41 42 43 44 45 46 47 48 49]\n",
      " [50 51 52 53 54 55 56 57 58 59]\n",
      " [60 61 62 63 64 65 66 67 68 69]\n",
      " [70 71 72 73 74 75 76 77 78 79]\n",
      " [80 81 82 83 84 85 86 87 88 89]\n",
      " [90 91 92 93 94 95 96 97 98 99]]\n"
     ]
    }
   ],
   "source": [
    "print(array[3:])"
   ]
  },
  {
   "cell_type": "code",
   "execution_count": 6,
   "metadata": {},
   "outputs": [
    {
     "name": "stdout",
     "output_type": "stream",
     "text": [
      "[[ 3  4  5  6  7]\n",
      " [13 14 15 16 17]\n",
      " [23 24 25 26 27]\n",
      " [33 34 35 36 37]\n",
      " [43 44 45 46 47]\n",
      " [53 54 55 56 57]\n",
      " [63 64 65 66 67]\n",
      " [73 74 75 76 77]\n",
      " [83 84 85 86 87]\n",
      " [93 94 95 96 97]]\n"
     ]
    }
   ],
   "source": [
    "print(array[0:10,3:8])"
   ]
  },
  {
   "cell_type": "code",
   "execution_count": 7,
   "metadata": {},
   "outputs": [
    {
     "name": "stdout",
     "output_type": "stream",
     "text": [
      "[[21 22 23 24 25 26 27]\n",
      " [31 32 33 34 35 36 37]\n",
      " [41 42 43 44 45 46 47]]\n"
     ]
    }
   ],
   "source": [
    "print(array[2:5,1:8])"
   ]
  },
  {
   "cell_type": "code",
   "execution_count": 8,
   "metadata": {},
   "outputs": [
    {
     "data": {
      "text/plain": [
       "array([0.77756268, 0.44186657, 0.32320288, 0.68809145, 0.00757348,\n",
       "       0.1384288 , 0.40911199, 0.03124955, 0.38708191, 0.11253765,\n",
       "       0.06270202, 0.45401979, 0.07607447, 0.49225213, 0.10909704,\n",
       "       0.45273583, 0.40551613, 0.85638476, 0.17040795, 0.20998246,\n",
       "       0.93082764, 0.35998324, 0.87073442, 0.69716827, 0.58988011,\n",
       "       0.13827683, 0.99448417, 0.24414286, 0.08322074, 0.18035662,\n",
       "       0.19225006, 0.54253088, 0.52586909, 0.12795982, 0.42609652,\n",
       "       0.68852278, 0.36844913, 0.69859271, 0.66004471, 0.30807041,\n",
       "       0.96474388, 0.29682857, 0.49008558, 0.594707  , 0.57024788,\n",
       "       0.29468321, 0.53356937, 0.7206583 , 0.16120758, 0.98989758,\n",
       "       0.28240592, 0.6083485 , 0.24643518, 0.30119246, 0.39497639,\n",
       "       0.46871098, 0.95051344, 0.31355423, 0.59723911, 0.32639236,\n",
       "       0.83574797, 0.79423861, 0.78725748, 0.50816654, 0.36782729,\n",
       "       0.17471387, 0.31237543, 0.64700099, 0.18850962, 0.53410945,\n",
       "       0.64619552, 0.85089914, 0.37635481, 0.34400888, 0.38299033,\n",
       "       0.05885441, 0.44369315, 0.64183355, 0.50164477, 0.70766723,\n",
       "       0.73522215, 0.86535075, 0.28850412, 0.02401362, 0.95674841,\n",
       "       0.11300918, 0.76601639, 0.22707487, 0.42668056, 0.52688313,\n",
       "       0.29411968, 0.73368848, 0.30244741, 0.02227309, 0.22474342,\n",
       "       0.19850879, 0.63831628, 0.15737626, 0.38558812, 0.62521093])"
      ]
     },
     "execution_count": 8,
     "metadata": {},
     "output_type": "execute_result"
    }
   ],
   "source": [
    "np.random.rand(100)"
   ]
  },
  {
   "cell_type": "code",
   "execution_count": 9,
   "metadata": {},
   "outputs": [
    {
     "data": {
      "text/plain": [
       "4.5"
      ]
     },
     "execution_count": 9,
     "metadata": {},
     "output_type": "execute_result"
    }
   ],
   "source": [
    "a = np.array([[7, 2], [5, 4]])\n",
    "np.mean(a)"
   ]
  },
  {
   "cell_type": "code",
   "execution_count": 10,
   "metadata": {},
   "outputs": [
    {
     "data": {
      "text/plain": [
       "4.5"
      ]
     },
     "execution_count": 10,
     "metadata": {},
     "output_type": "execute_result"
    }
   ],
   "source": [
    "np.median(a)"
   ]
  },
  {
   "cell_type": "code",
   "execution_count": 11,
   "metadata": {},
   "outputs": [
    {
     "data": {
      "text/plain": [
       "1.8027756377319946"
      ]
     },
     "execution_count": 11,
     "metadata": {},
     "output_type": "execute_result"
    }
   ],
   "source": [
    "np.std(a)"
   ]
  },
  {
   "cell_type": "code",
   "execution_count": 12,
   "metadata": {},
   "outputs": [
    {
     "data": {
      "text/plain": [
       "array([[7, 1, 1, 7],\n",
       "       [9, 4, 3, 8],\n",
       "       [6, 1, 9, 7],\n",
       "       [9, 7, 2, 5],\n",
       "       [5, 1, 5, 9]])"
      ]
     },
     "execution_count": 12,
     "metadata": {},
     "output_type": "execute_result"
    }
   ],
   "source": [
    "a = np.array([[7, 1, 1, 7],\n",
    "             [9, 4, 3, 8],\n",
    "             [6, 1, 9, 7],\n",
    "             [9, 7, 2, 5],\n",
    "             [5, 1, 5, 9]])\n",
    "a"
   ]
  },
  {
   "cell_type": "code",
   "execution_count": 13,
   "metadata": {},
   "outputs": [
    {
     "data": {
      "text/plain": [
       "ModeResult(mode=array([[9, 1, 1, 7]]), count=array([[2, 3, 1, 2]]))"
      ]
     },
     "execution_count": 13,
     "metadata": {},
     "output_type": "execute_result"
    }
   ],
   "source": [
    "from scipy import stats\n",
    "stats.mode(a)"
   ]
  }
 ],
 "metadata": {
  "kernelspec": {
   "display_name": "Python 3",
   "language": "python",
   "name": "python3"
  },
  "language_info": {
   "codemirror_mode": {
    "name": "ipython",
    "version": 3
   },
   "file_extension": ".py",
   "mimetype": "text/x-python",
   "name": "python",
   "nbconvert_exporter": "python",
   "pygments_lexer": "ipython3",
   "version": "3.8.5"
  }
 },
 "nbformat": 4,
 "nbformat_minor": 4
}
